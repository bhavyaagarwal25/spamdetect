{
 "cells": [
  {
   "cell_type": "code",
   "execution_count": 3,
   "id": "1f17d5a4-536c-4ad8-bd02-7f6864b1ea18",
   "metadata": {},
   "outputs": [],
   "source": [
    "import pandas as pd"
   ]
  },
  {
   "cell_type": "code",
   "execution_count": 4,
   "id": "6c0f8edb-6b1f-4b80-9790-6860a915fe85",
   "metadata": {},
   "outputs": [],
   "source": [
    "df = pd.read_csv(r\"C:\\Users\\Public\\Bhavya\\spam\\synthetic_spam_ca_unique.csv\")\n"
   ]
  },
  {
   "cell_type": "code",
   "execution_count": 5,
   "id": "cce756a8-a0ad-4711-89cd-140459343694",
   "metadata": {},
   "outputs": [],
   "source": [
    "df['IsSpam'] = df['IsSpam'].map({'spam': 1, 'nospam': 0})"
   ]
  },
  {
   "cell_type": "code",
   "execution_count": 6,
   "id": "feb3d166-dc02-4fb6-ad4b-8a00fe91f220",
   "metadata": {},
   "outputs": [],
   "source": [
    "df = df.drop_duplicates()"
   ]
  },
  {
   "cell_type": "code",
   "execution_count": 7,
   "id": "fff57297-8ba5-46f1-9362-454bdaeb3207",
   "metadata": {},
   "outputs": [
    {
     "name": "stdout",
     "output_type": "stream",
     "text": [
      "count    1500.000000\n",
      "mean      233.248000\n",
      "std       193.192517\n",
      "min         5.000000\n",
      "25%        25.000000\n",
      "50%       214.000000\n",
      "75%       408.250000\n",
      "max       599.000000\n",
      "Name: CallDuration, dtype: float64\n",
      "count    1500.000000\n",
      "mean        3.237333\n",
      "std         2.499301\n",
      "min         1.000000\n",
      "25%         2.000000\n",
      "50%         2.000000\n",
      "75%         3.000000\n",
      "max        10.000000\n",
      "Name: CallFrequency, dtype: float64\n"
     ]
    }
   ],
   "source": [
    "for col in ['CallDuration', 'CallFrequency']:\n",
    "    print(df[col].describe())\n"
   ]
  },
  {
   "cell_type": "code",
   "execution_count": 8,
   "id": "40ab8d54-41cf-4657-86e3-6ec5ca1d3e3f",
   "metadata": {},
   "outputs": [],
   "source": [
    "Q1 = df[col].quantile(0.25)"
   ]
  },
  {
   "cell_type": "code",
   "execution_count": 9,
   "id": "52b91e3c-deae-4551-b2aa-dbed239dd695",
   "metadata": {},
   "outputs": [],
   "source": [
    "Q3 = df[col].quantile(0.75)"
   ]
  },
  {
   "cell_type": "code",
   "execution_count": 10,
   "id": "10272e66-76f7-48a3-a300-cdf662c37396",
   "metadata": {},
   "outputs": [],
   "source": [
    "IQR = Q3 - Q1"
   ]
  },
  {
   "cell_type": "code",
   "execution_count": 11,
   "id": "3925cfaf-e823-4841-ad64-520c8f6f6ce8",
   "metadata": {},
   "outputs": [],
   "source": [
    "lower_bound = Q1 - 1.5 * IQR"
   ]
  },
  {
   "cell_type": "code",
   "execution_count": 12,
   "id": "67084046-b569-4c11-aef7-9e5e6556df9b",
   "metadata": {},
   "outputs": [],
   "source": [
    "upper_bound = Q3 + 1.5 * IQR"
   ]
  },
  {
   "cell_type": "code",
   "execution_count": 13,
   "id": "81d164ad-cf1d-4d6b-8714-683dbb971fec",
   "metadata": {},
   "outputs": [],
   "source": [
    "df = df[(df[col] >= lower_bound) & (df[col] <= upper_bound)]"
   ]
  },
  {
   "cell_type": "code",
   "execution_count": 14,
   "id": "a1030e5e-a3fb-4793-9ae6-bd5a2ea4d5ad",
   "metadata": {},
   "outputs": [],
   "source": [
    "df.to_csv(\"cleaned_spam_calldata.csv\", index=False)\n",
    "\n"
   ]
  },
  {
   "cell_type": "code",
   "execution_count": null,
   "id": "301ecf73-8c87-45a5-9652-afc9d85000a5",
   "metadata": {},
   "outputs": [],
   "source": []
  },
  {
   "cell_type": "code",
   "execution_count": null,
   "id": "89832623-cd2e-4f2c-aa75-5f13be0022c9",
   "metadata": {},
   "outputs": [],
   "source": []
  }
 ],
 "metadata": {
  "kernelspec": {
   "display_name": "base",
   "language": "python",
   "name": "python3"
  },
  "language_info": {
   "codemirror_mode": {
    "name": "ipython",
    "version": 3
   },
   "file_extension": ".py",
   "mimetype": "text/x-python",
   "name": "python",
   "nbconvert_exporter": "python",
   "pygments_lexer": "ipython3",
   "version": "3.12.4"
  }
 },
 "nbformat": 4,
 "nbformat_minor": 5
}
